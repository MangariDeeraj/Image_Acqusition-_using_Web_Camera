{
 "cells": [
  {
   "cell_type": "code",
   "execution_count": 1,
   "id": "42c9787a",
   "metadata": {},
   "outputs": [],
   "source": [
    "import cv2\n",
    "import numpy as np\n",
    "viedoCaptureObject=cv2.VideoCapture(0)\n",
    "ret,frame=viedoCaptureObject.read()\n",
    "cv2.imwrite(\"captured_frame.jpg\",frame)\n",
    "viedoCaptureObject.release()\n",
    "cv2.destroyAllWindows()"
   ]
  },
  {
   "cell_type": "code",
   "execution_count": null,
   "id": "ca3bd3e3",
   "metadata": {},
   "outputs": [],
   "source": [
    "NAME :- MANGARI DEERAJ\n",
    "REG NO:- 212223100031"
   ]
  },
  {
   "cell_type": "code",
   "execution_count": null,
   "id": "c4041db1",
   "metadata": {},
   "outputs": [],
   "source": []
  },
  {
   "cell_type": "code",
   "execution_count": 2,
   "id": "ce759332",
   "metadata": {},
   "outputs": [],
   "source": [
    "cap = cv2.VideoCapture(0)\n",
    "ret, frame = cap.read()\n",
    "cv2.imshow('captured_frame', frame)\n",
    "cv2.waitKey(10000)\n",
    "cap.release()\n",
    "cv2.destroyAllWindows()"
   ]
  },
  {
   "cell_type": "code",
   "execution_count": 9,
   "id": "75f3e31c",
   "metadata": {},
   "outputs": [],
   "source": [
    "cap=cv2.VideoCapture(0)\n",
    "ret,frame=cap.read()\n",
    "width=int(cap.get(3))\n",
    "height=int(cap.get(4))\n",
    "image=np.zeros(frame.shape,np.uint8)\n",
    "smaller_frame=cv2.resize(frame,(0,0),fx=0.5,fy=0.5)\n",
    "image[:height//2, :width//2]=smaller_frame\n",
    "image[height//2:, :width//2]=smaller_frame\n",
    "image[:height//2, width//2:]=smaller_frame\n",
    "image[height//2:, width//2:]=smaller_frame\n",
    "cv2.imshow('',image)\n",
    "cv2.waitKey(5000)  \n",
    "image_dict = {'captured_image1': image}\n",
    "cv2.imwrite('captured_image1.jpg', image)\n",
    "cap.release()\n",
    "cv2.destroyAllWindows()"
   ]
  },
  {
   "cell_type": "code",
   "execution_count": null,
   "id": "d66c99da",
   "metadata": {},
   "outputs": [],
   "source": [
    "NAME :- MANGARI DEERAJ\n",
    "REG NO:- 212223100031"
   ]
  },
  {
   "cell_type": "code",
   "execution_count": 10,
   "id": "4253322a",
   "metadata": {},
   "outputs": [],
   "source": [
    "cap=cv2.VideoCapture(0)\n",
    "ret,frame=cap.read()\n",
    "width=int(cap.get(3))\n",
    "height=int(cap.get(4))\n",
    "image=np.zeros(frame.shape,np.uint8)\n",
    "smaller_frame=cv2.resize(frame,(0,0),fx=0.5,fy=0.5)\n",
    "image[:height//2, :width//2]=cv2.rotate(smaller_frame,cv2.ROTATE_180)\n",
    "image[height//2:, :width//2]=smaller_frame\n",
    "image[:height//2, width//2:]=cv2.rotate(smaller_frame,cv2.ROTATE_180)\n",
    "image[height//2:, width//2:]=smaller_frame\n",
    "cv2.imshow('',image)\n",
    "cv2.waitKey(5000) \n",
    "image_dict = {'captured_image2': image}\n",
    "cv2.imwrite('captured_image2.jpg', image)\n",
    "cap.release()\n",
    "cv2.destroyAllWindows()"
   ]
  },
  {
   "cell_type": "code",
   "execution_count": null,
   "id": "7462dc8f",
   "metadata": {},
   "outputs": [],
   "source": [
    "NAME :- MANGARI DEERAJ\n",
    "REG NO:- 212223100031"
   ]
  }
 ],
 "metadata": {
  "kernelspec": {
   "display_name": "Python 3 (ipykernel)",
   "language": "python",
   "name": "python3"
  },
  "language_info": {
   "codemirror_mode": {
    "name": "ipython",
    "version": 3
   },
   "file_extension": ".py",
   "mimetype": "text/x-python",
   "name": "python",
   "nbconvert_exporter": "python",
   "pygments_lexer": "ipython3",
   "version": "3.11.3"
  }
 },
 "nbformat": 4,
 "nbformat_minor": 5
}
